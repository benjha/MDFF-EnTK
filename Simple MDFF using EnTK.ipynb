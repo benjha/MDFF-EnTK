{
 "cells": [
  {
   "cell_type": "markdown",
   "metadata": {},
   "source": [
    "### Importing RADICAL EnTK"
   ]
  },
  {
   "cell_type": "code",
   "execution_count": 3,
   "metadata": {},
   "outputs": [],
   "source": [
    "from radical.entk import Pipeline, Stage, Task, AppManager "
   ]
  },
  {
   "cell_type": "markdown",
   "metadata": {},
   "source": [
    "### VMD helper functions for tcl script"
   ]
  },
  {
   "cell_type": "code",
   "execution_count": 4,
   "metadata": {},
   "outputs": [],
   "source": [
    "def to_file(list_of_cmd, fname):\n",
    "    with open(fname, \"w\") as f:\n",
    "        for l in list_of_cmd:\n",
    "            f.write(l + \"\\n\")\n",
    "        f.close()\n",
    "        return fname\n",
    "\n",
    "\n",
    "def set_vmd_run(task, list_of_cmd, name=None):\n",
    "    fname = to_file(list_of_cmd, name or \"input.tcl\")\n",
    "    task.executable = [ '/gpfs/alpine/world-shared/bip115/VMD_binaries/VMD-xlc-build-2019-Nov-11/bin/vmd' ]\n",
    "    task.arguments = [ '-eofexit', '<', fname ]"
   ]
  },
  {
   "cell_type": "markdown",
   "metadata": {},
   "source": [
    "### Simple MDFF described in EnTK\n",
    "- Get sample PDB files\n",
    "- Generate a simulated density map\n",
    "- Convert the density map to an MDFF potential\n",
    "- Prepare the initial structure\n",
    "- Run the MDFF simulation with NAMD (not available)\n",
    "- Calculate the root mean square deviation"
   ]
  },
  {
   "cell_type": "code",
   "execution_count": 5,
   "metadata": {},
   "outputs": [],
   "source": [
    "def get_pipeline(workflow_cfg, resource):\n",
    "\n",
    "    # Get workflow parameters from the workflow cfg file for the specific\n",
    "    # resource\n",
    "\n",
    "    ## Extract resource-independent global parameters\n",
    "    total_iters = workflow_cfg['global']['total_iters']\n",
    "    ensemble_size = workflow_cfg['global']['ensemble_size']\n",
    "    sim_duration = workflow_cfg['global']['sim_duration']\n",
    "\n",
    "    ## Simulation related parameters\n",
    "    sim_pre_exec = workflow_cfg[resource]['simulation']['pre_exec']\n",
    "    sim_cpus = workflow_cfg[resource]['simulation']['cpus']\n",
    "\n",
    "    ## Analysis related parameters\n",
    "    ana_pre_exec = workflow_cfg[resource]['analysis']['pre_exec']\n",
    "    ana_cpus = workflow_cfg[resource]['analysis']['cpus']\n",
    "\n",
    "\n",
    "    # Create one Pipeline for the entire workflow. The Pipeline contains 1 \n",
    "    # Simulation stage and 1 Analysis stage per iteration.\n",
    "    # Please refer to the API reference for more details about Pipeline, Stage,\n",
    "    # Task. Link: https://radicalentk.readthedocs.io/en/latest/api/app_create.html\n",
    "    p = Pipeline()\n",
    "    p.name = 'simple_mdff'\n",
    "\n",
    "    task_names = []\n",
    "\n",
    "    first_stage = Stage()\n",
    "    # We use names of pipelines, stages, tasks to refer to data of a\n",
    "    # particular task\n",
    "    first_stage.name = 'Generating a simulated density map'\n",
    "\n",
    "\n",
    "    # Create tasks and add them to stage\n",
    "    task = Task()\n",
    "    task.name = 'Starting to load the target PDB'\n",
    "    task.cpu_reqs['threads_per_process'] = sim_cpus\n",
    "    task.pre_exec = [ \"/usr/bin/wget https://www.ks.uiuc.edu/Training/Tutorials/science/mdff/mdff-tutorial-files/2-mdff-vacuo/4ake-target.pdb\" ]\n",
    "    task.pre_exec += [ \"module load vmd/1.9.2\"]       # repeat this for all other stages \n",
    "    task_tcl_cmds = [ 'mol new 4ake-target.pdb' ]\n",
    "    task_tcl_cmds += [ 'package require autopsf' ]\n",
    "    task_tcl_cmds += [ 'autopsf 4ake-target.pdb' ]\n",
    "    task_tcl_cmds += [ 'set sel [atomselect top all]' ]\n",
    "    task_tcl_cmds += [ 'package require mdff']\n",
    "    task_tcl_cmds += [ 'mdff sim $sel -res 5 -o 4ake-target_autopsf.situs' ]\n",
    "    task_tcl_cmds += [ 'mol new 4ake-target_autopsf.situs' ]\n",
    "\n",
    "    set_vmd_run(task, task_tcl_cmds, \"first_stage.tcl\")\n",
    "    first_stage.add_tasks(task)\n",
    "    # Add sim_stage to Pipeline\n",
    "    p.add_stages(first_stage)\n",
    "\n",
    "\n",
    "    second_stage = Stage()\n",
    "    second_stage.name = 'Converting the density map to an MDFF potential'\n",
    "\n",
    "    task = Task()\n",
    "    task.name = 'generate dx file'\n",
    "    task.cpu_reqs['threads_per_process'] = sim_cpus\n",
    "    task.pre_exec = [ \"export PATH=$PATH:/gpfs/alpine/world-shared/bip115/VMD_binaries/VMD-xlc-build-2019-Nov-11/bin/\"]       # repeat this for all other stages \n",
    "    task_tcl_cmds = [ 'package require mdff' ]\n",
    "    task_tcl_cmds += [ 'mdff griddx -i 4ake-target_autopsf.situs -o 4ake-target_autopsf-grid.dx' ]\n",
    "\n",
    "    set_vmd_run(task, task_tcl_cmds, \"second_stage.tcl\")\n",
    "    second_stage.add_tasks(task)\n",
    "    p.add_stages(second_stage)\n",
    "\n",
    "\n",
    "    third_stage = Stage()\n",
    "    third_stage.name = 'Preparing the initial structure'\n",
    "\n",
    "    task = Task()\n",
    "    task.name = 'Starting to load the initial structure'\n",
    "    task.cpu_reqs['threads_per_process'] = sim_cpus\n",
    "    task.pre_exec = [ '/usr/bin/wget https://www.ks.uiuc.edu/Training/Tutorials/science/mdff/mdff-tutorial-files/2-mdff-vacuo/1ake-initial.pdb' ]\n",
    "    task.pre_exec += [ \"export PATH=$PATH:/gpfs/alpine/world-shared/bip115/VMD_binaries/VMD-xlc-build-2019-Nov-11/bin/\"]       # repeat this for all other stages \n",
    "    task_tcl_cmds = [ 'mol new 1ake-initial.pdb' ]\n",
    "    task_tcl_cmds += [ 'package require autopsf' ]\n",
    "    task_tcl_cmds += [ 'autopsf 1ake-initial.pdb' ]\n",
    "    task_tcl_cmds += [ 'package require mdff' ]\n",
    "    task_tcl_cmds += [ 'mdff gridpdb -psf 1ake-initial_autopsf.psf -pdb 1ake-initial_autopsf.pdb -o 1ake-initial_autopsf-grid.pdb' ]\n",
    "\n",
    "    set_vmd_run(task, task_tcl_cmds, \"third_stage.tcl\")\n",
    "    third_stage.add_tasks(task)\n",
    "    p.add_stages(third_stage)\n",
    "\n",
    "\n",
    "    fourth_stage = Stage()\n",
    "    fourth_stage.name = 'Defining secondary structure restraints'\n",
    "\n",
    "    task = Task()\n",
    "    task.cpu_reqs['threads_per_process'] = sim_cpus\n",
    "    task.pre_exec = [ \"export PATH=$PATH:/gpfs/alpine/world-shared/bip115/VMD_binaries/VMD-xlc-build-2019-Nov-11/bin/\"]       # repeat this for all other stages \n",
    "    task_tcl_cmds = [ 'package require ssrestraints' ]\n",
    "    task_tcl_cmds += [ 'ssrestraints -psf 1ake-initial_autopsf.psf -pdb 1ake-initial_autopsf.pdb -o 1ake-extrabonds.txt -hbonds' ]\n",
    "    task_tcl_cmds += [ \n",
    "            'mol new 1ake-initial_autopsf.psf',\n",
    "            'mol addfile 1ake-initial_autopsf.pdb',\n",
    "            'cispeptide restrain -o 1ake-extrabonds-cispeptide.txt',\n",
    "            'chirality restrain -o 1ake-extrabonds-chirality.txt',\n",
    "            ]\n",
    "\n",
    "    set_vmd_run(task, task_tcl_cmds, \"fourth_stage.tcl\")\n",
    "    fourth_stage.add_tasks(task)\n",
    "    p.add_stages(fourth_stage)\n",
    "\n",
    "  \n",
    "    #fifth_stage = Stage()\n",
    "    #fifth_stage.name = 'Rigid-body docking the structure into the density map'\n",
    "    #task = Task()\n",
    "    task.cpu_reqs['threads_per_process'] = sim_cpus\n",
    "    # Expect to run Situs package\n",
    "    # colores 4ake-target_autopsf.situs 1ake-initial_autopsf.pdb -res 5 -nopowell\n",
    "    # However, this example uses prepared pdb files by wget\n",
    "    #task.pre_exec = [ '/usr/bin/wget https://www.ks.uiuc.edu/Training/Tutorials/science/mdff/mdff-tutorial-files/2-mdff-vacuo/1ake-colores.pdb' ]\n",
    "    #task.executable = [ 'mv' ]\n",
    "    #task.arguments  = [ '1ake-colores.pdb', '1ake-initial_autopsf-docked.pdb' ]\n",
    " \n",
    "    #fifth_stage.add_tasks(task)\n",
    "    #p.add_stages(fifth_stage)\n",
    "\n",
    "  \n",
    "    sixth_stage = Stage()\n",
    "    sixth_stage.name = 'Running the MDFF simulation with NAMD'\n",
    "    task = Task()\n",
    "    task.cpu_reqs['threads_per_process'] = sim_cpus\n",
    "    task.pre_exec = [ \"export PATH=$PATH:/gpfs/alpine/world-shared/bip115/VMD_binaries/VMD-xlc-build-2019-Nov-11/bin/\"]       # repeat this for all other stages \n",
    "    task_tcl_cmds = [ 'package require mdff' ]\n",
    "    task_tcl_cmds += [ 'mdff setup -o adk -psf 1ake-initial_autopsf.psf -pdb 1ake-initial_autopsf-docked.pdb -griddx 4ake-target_autopsf-grid.dx -gridpdb 1ake-initial_autopsf-grid.pdb -extrab {1ake-extrabonds.txt 1ake-extrabonds-cispeptide.txt 1ake-extrabonds-chirality.txt} -gscale 0.3 -numsteps 50000' ]\n",
    "    task_tcl_cmds += [ 'mdff setup -o adk -psf 1ake-initial_autopsf.psf -pdb 1ake-initial_autopsf-docked.pdb -griddx 4ake-target_autopsf-grid.dx -gridpdb 1ake-initial_autopsf-grid.pdb -extrab {1ake-extrabonds.txt 1ake-extrabonds-cispeptide.txt 1ake-extrabonds-chirality.txt} -gscale 10 -minsteps 2000 -numsteps 0 -step 2' ]\n",
    "\n",
    "    set_vmd_run(task, task_tcl_cmds, \"sixth_stage.tcl\")\n",
    "    sixth_stage.add_tasks(task)\n",
    "    p.add_stages(sixth_stage)\n",
    "\n",
    "\n",
    "    seventh_stage = Stage()\n",
    "    seventh_stage.name = \"NAMD simulation\"\n",
    "    task = Task()\n",
    "    task.cpu_reqs['threads_per_process'] = sim_cpus\n",
    "    task.executable = [ 'namd2' ]\n",
    "    task.pre_exec = [ \"module load namd/2.12_cpu\" ]\n",
    "    task.arguments = ['+ppn', sim_cpus, 'adk-step1.namd']\n",
    "    seventh_stage.add_tasks(task)\n",
    "    #task = Task()\n",
    "    #task.cpu_reqs['threads_per_process'] = sim_cpus    \n",
    "    #task.executable = [ 'namd2' ]\n",
    "    #task.executable = [ 'namd2' ]\n",
    "    #task.arguments = ['+ppn', sim_cpus, 'adk-step2.namd']\n",
    "    #seventh_stage.add_tasks(task)\n",
    "    p.add_stages(seventh_stage)\n",
    "\n",
    "    # Visualizing the MDFF trajectory\n",
    "    #\n",
    "    # mol new 4ake-target_autopsf.psf    \n",
    "    # mol addfile 4ake-target_autopsf.pdb  \n",
    "    # mol new 1ake-initial_autopsf.psf   \n",
    "    # mol addfile 1ake-initial_autopsf-docked.pdb  \n",
    "    # mol addfile adk-step1.dcd  \n",
    "    # mol addfile adk-step2.dcd\n",
    "\n",
    "\n",
    "    eighth_stage = Stage()\n",
    "    eighth_stage.name = 'Calculating the root mean square deviation'\n",
    "    task = Task()\n",
    "    task.cpu_reqs['threads_per_process'] = sim_cpus\n",
    "    task.pre_exec = [ \"export PATH=$PATH:/gpfs/alpine/world-shared/bip115/VMD_binaries/VMD-xlc-build-2019-Nov-11/bin/\"]       # repeat this for all other stages \n",
    "    task_tcl_cmds = [ \n",
    "            'package require mdff',\n",
    "            'mdff check -rmsd -refpdb 4ake-target_autopsf.pdb',\n",
    "            'set selbbref [atomselect 0 \"backbone\"]',\n",
    "            'set selbb [atomselect 1 \"backbone\"]',\n",
    "            '$selbb frame 0',\n",
    "            'measure rmsd $selbb $selbbref',\n",
    "            '$selbb frame last',\n",
    "            'measure rmsd $selbb $selbbref'\n",
    "            ]\n",
    "\n",
    "    set_vmd_run(task, task_tcl_cmds, \"eighth_stage.tcl\")\n",
    "    eighth_stage.add_tasks(task)\n",
    "    p.add_stages(eighth_stage)\n",
    "\n",
    "\n",
    "    ninth_stage = Stage()\n",
    "    ninth_stage.name = 'Calculating the cross-correlation coefficient'\n",
    "    task = Task()\n",
    "    task.cpu_reqs['threads_per_process'] = sim_cpus\n",
    "    task.pre_exec = [ \"export PATH=$PATH:/gpfs/alpine/world-shared/bip115/VMD_binaries/VMD-xlc-build-2019-Nov-11/bin/\"]       # repeat this for all other stages \n",
    "    task_tcl_cmds = [ \n",
    "            'package require mdff',\n",
    "            'mdff check -ccc -map 4ake-target_autopsf.dx -res 5',\n",
    "            'set selallref [atomselect 0 \"all\"]',\n",
    "            'set selall [atomselect 1 \"all\"]',\n",
    "            '$selall frame 0',\n",
    "            'mdff ccc $selall -i 4ake-target_autopsf.situs -res 5',\n",
    "            '$selall frame last',\n",
    "            'mdff ccc $selall -i 4ake-target_autopsf.situs -res 5']\n",
    "\n",
    "    set_vmd_run(task, task_tcl_cmds, \"ninth_stage.tcl\")\n",
    "    ninth_stage.add_tasks(task)\n",
    "    p.add_stages(ninth_stage)\n",
    "\n",
    "    return p"
   ]
  },
  {
   "cell_type": "markdown",
   "metadata": {},
   "source": [
    "### Resource & workflow definition\n",
    "- IBM lsf e.g. walltime, project, queue"
   ]
  },
  {
   "cell_type": "code",
   "execution_count": 31,
   "metadata": {},
   "outputs": [],
   "source": [
    "workflow_config = {'global': \n",
    "                   {\n",
    "                       'ensemble_size': 1,\n",
    "                       'sim_duration': 1,\n",
    "                       'total_iters': 1\n",
    "                   },\n",
    "                   \n",
    "                   'ornl_summit': \n",
    "                   {\n",
    "                       'simulation': \n",
    "                       {\n",
    "                           'pre_exec': None,\n",
    "                           'cpus': 168\n",
    "                       },\n",
    "                       'analysis': {\n",
    "                           'pre_exec': None,\n",
    "                           'cpus': 1\n",
    "                       }\n",
    "                   }\n",
    "                  }\n",
    "resource_config = { 'rabbitmq':\n",
    "                   {\n",
    "                       'hostname': 'two.radical-project.org',\n",
    "                       'port': 33239\n",
    "                   },\n",
    "                   'ornl_summit':\n",
    "                   {\n",
    "                       'label': 'ornl.summit',\n",
    "                       'walltime': 30,\n",
    "                       'cpus': 168,\n",
    "                       'gpus': 0,\n",
    "                       'queue': 'batch',\n",
    "                       'access_schema': 'local',\n",
    "                       'project':'CSC393'\n",
    "                   }\n",
    "                  }"
   ]
  },
  {
   "cell_type": "markdown",
   "metadata": {},
   "source": [
    "### EnTK Preparation"
   ]
  },
  {
   "cell_type": "code",
   "execution_count": 25,
   "metadata": {},
   "outputs": [
    {
     "name": "stderr",
     "output_type": "stream",
     "text": [
      "\u001b[94mEnTK session: re.session.login3.hrlee.018218.0003\n",
      "\u001b[39m\u001b[0m\u001b[94mCreating AppManager\u001b[39m\u001b[0m\u001b[94mSetting up RabbitMQ system\u001b[39m\u001b[0m\u001b[92m                                 ok\n",
      "\u001b[39m\u001b[0m\u001b[92m                                                                              ok\n",
      "\u001b[39m\u001b[0m"
     ]
    }
   ],
   "source": [
    "resource = 'ornl_summit'\n",
    "# Create Pipeline\n",
    "p = get_pipeline(workflow_config, resource)\n",
    "\n",
    "# Create Application Manager\n",
    "appman = AppManager(hostname=resource_config['rabbitmq']['hostname'], \n",
    "                        port=resource_config['rabbitmq']['port'])"
   ]
  },
  {
   "cell_type": "code",
   "execution_count": 32,
   "metadata": {},
   "outputs": [],
   "source": [
    "# Create a dictionary describe five mandatory keys:\n",
    "# resource, walltime, cores, queue and access_schema\n",
    "res_dict = {\n",
    "\n",
    "    'resource': resource_config[resource]['label'],\n",
    "    'walltime': resource_config[resource]['walltime'],\n",
    "    'cpus': resource_config[resource]['cpus'],\n",
    "    'queue': resource_config[resource]['queue'],\n",
    "    'access_schema': resource_config[resource]['access_schema'],\n",
    "    'project': resource_config[resource]['project']\n",
    "}"
   ]
  },
  {
   "cell_type": "markdown",
   "metadata": {},
   "source": [
    "### Start Simple MDFF in EnTK (WIP on Summit)"
   ]
  },
  {
   "cell_type": "code",
   "execution_count": 33,
   "metadata": {
    "scrolled": false
   },
   "outputs": [
    {
     "name": "stderr",
     "output_type": "stream",
     "text": [
      "\u001b[94mValidating and assigning resource manager\u001b[39m\u001b[0m\u001b[92m                                     ok\n",
      "\u001b[39m\u001b[0m\u001b[94mSetting up RabbitMQ system\u001b[39m\u001b[0m\u001b[92m                                                    ok\n",
      "\u001b[39m\u001b[0m"
     ]
    },
    {
     "name": "stdout",
     "output_type": "stream",
     "text": [
      "\u001b[92m                                                                              ok\n",
      "\u001b[39m\u001b[0m\u001b[94mcreate pilot manager\u001b[39m\u001b[0m\u001b[92m                                                          ok\n",
      "\u001b[39m\u001b[0m\u001b[94msubmit 1 pilot(s)\n",
      "        \u001b[39m\u001b[0m[ornl.summit:168]\n",
      "        \u001b[39m\u001b[0m\u001b[92m                                                                      ok\n",
      "\u001b[39m\u001b[0m"
     ]
    },
    {
     "name": "stderr",
     "output_type": "stream",
     "text": [
      "\u001b[92mAll components created\n",
      "\u001b[92mUpdate: \u001b[39m\u001b[0m\u001b[39m\u001b[0m\u001b[94msimple_mdff state: SCHEDULING\n",
      "\u001b[39m\u001b[0m\u001b[92mUpdate: \u001b[39m\u001b[0m\u001b[94msimple_mdff.Generating a simulated density map state: SCHEDULING\n",
      "\u001b[39m\u001b[0m\u001b[92mUpdate: \u001b[39m\u001b[0m\u001b[94msimple_mdff.Generating a simulated density map.Starting to load the target PDB state: SCHEDULING\n",
      "\u001b[39m\u001b[0m\u001b[92mUpdate: \u001b[39m\u001b[0m\u001b[94msimple_mdff.Generating a simulated density map.Starting to load the target PDB state: SCHEDULED\n",
      "\u001b[39m\u001b[0m\u001b[92mUpdate: \u001b[39m\u001b[0m\u001b[94msimple_mdff.Generating a simulated density map state: SCHEDULED\n",
      "\u001b[39m\u001b[0m"
     ]
    },
    {
     "name": "stdout",
     "output_type": "stream",
     "text": [
      "\u001b[94mcreate unit manager\u001b[39m\u001b[0m"
     ]
    },
    {
     "name": "stderr",
     "output_type": "stream",
     "text": [
      "/ccs/home/hrlee/venv/rp/lib/python2.7/site-packages/pymongo/topology.py:155: UserWarning: MongoClient opened before fork. Create MongoClient only after forking. See PyMongo's documentation for details: http://api.mongodb.org/python/current/faq.html#is-pymongo-fork-safe\n",
      "  \"MongoClient opened before fork. Create MongoClient only \"\n"
     ]
    },
    {
     "name": "stdout",
     "output_type": "stream",
     "text": [
      "\u001b[92m                                                           ok\n",
      "\u001b[39m\u001b[0m\u001b[94madd 1 pilot(s)\u001b[39m\u001b[0m\u001b[92m                                                                ok\n",
      "\u001b[39m\u001b[0m"
     ]
    },
    {
     "name": "stderr",
     "output_type": "stream",
     "text": [
      "\u001b[92mUpdate: \u001b[39m\u001b[0m\u001b[94msimple_mdff.Generating a simulated density map.Starting to load the target PDB state: SUBMITTING\n",
      "\u001b[39m\u001b[0m"
     ]
    },
    {
     "name": "stdout",
     "output_type": "stream",
     "text": [
      "\u001b[94msubmit 1 unit(s)\n",
      "        \u001b[39m\u001b[0m.\u001b[39m\u001b[0m\u001b[92m                                                                     ok\n",
      "\u001b[39m\u001b[0m"
     ]
    },
    {
     "name": "stderr",
     "output_type": "stream",
     "text": [
      "\u001b[92mUpdate: \u001b[39m\u001b[0m\u001b[94msimple_mdff.Generating a simulated density map.Starting to load the target PDB state: EXECUTED\n",
      "\u001b[39m\u001b[0m\u001b[92mUpdate: \u001b[39m\u001b[0m\u001b[94msimple_mdff.Generating a simulated density map.Starting to load the target PDB state: FAILED\n",
      "\u001b[39m\u001b[0m\u001b[92mUpdate: \u001b[39m\u001b[0m\u001b[94msimple_mdff.Generating a simulated density map state: DONE\n",
      "\u001b[39m\u001b[0m\u001b[92mUpdate: \u001b[39m\u001b[0m\u001b[94msimple_mdff.Converting the density map to an MDFF potential state: SCHEDULING\n",
      "\u001b[39m\u001b[0m\u001b[92mUpdate: \u001b[39m\u001b[0m\u001b[94msimple_mdff.Converting the density map to an MDFF potential.generate dx file state: SCHEDULING\n",
      "\u001b[39m\u001b[0m\u001b[92mUpdate: \u001b[39m\u001b[0m\u001b[94msimple_mdff.Converting the density map to an MDFF potential.generate dx file state: SCHEDULED\n",
      "\u001b[39m\u001b[0m\u001b[92mUpdate: \u001b[39m\u001b[0m\u001b[94msimple_mdff.Converting the density map to an MDFF potential state: SCHEDULED\n",
      "\u001b[39m\u001b[0m\u001b[92mUpdate: \u001b[39m\u001b[0m\u001b[94msimple_mdff.Converting the density map to an MDFF potential.generate dx file state: SUBMITTING\n",
      "\u001b[39m\u001b[0m"
     ]
    },
    {
     "name": "stdout",
     "output_type": "stream",
     "text": [
      "\u001b[94msubmit 1 unit(s)\n",
      "        \u001b[39m\u001b[0m.\u001b[39m\u001b[0m\u001b[92m                                                                     ok\n",
      "\u001b[39m\u001b[0m"
     ]
    },
    {
     "name": "stderr",
     "output_type": "stream",
     "text": [
      "\u001b[92mUpdate: \u001b[39m\u001b[0m\u001b[94msimple_mdff.Converting the density map to an MDFF potential.generate dx file state: EXECUTED\n",
      "\u001b[39m\u001b[0m\u001b[92mUpdate: \u001b[39m\u001b[0m\u001b[94msimple_mdff.Converting the density map to an MDFF potential.generate dx file state: FAILED\n",
      "\u001b[39m\u001b[0m\u001b[92mUpdate: \u001b[39m\u001b[0m\u001b[94msimple_mdff.Converting the density map to an MDFF potential state: DONE\n",
      "\u001b[39m\u001b[0m\u001b[92mUpdate: \u001b[39m\u001b[0m\u001b[94msimple_mdff.Preparing the initial structure state: SCHEDULING\n",
      "\u001b[39m\u001b[0m\u001b[92mUpdate: \u001b[39m\u001b[0m\u001b[94msimple_mdff.Preparing the initial structure.Starting to load the initial structure state: SCHEDULING\n",
      "\u001b[39m\u001b[0m\u001b[92mUpdate: \u001b[39m\u001b[0m\u001b[94msimple_mdff.Preparing the initial structure.Starting to load the initial structure state: SCHEDULED\n",
      "\u001b[39m\u001b[0m\u001b[92mUpdate: \u001b[39m\u001b[0m\u001b[94msimple_mdff.Preparing the initial structure state: SCHEDULED\n",
      "\u001b[39m\u001b[0m\u001b[92mUpdate: \u001b[39m\u001b[0m\u001b[94msimple_mdff.Preparing the initial structure.Starting to load the initial structure state: SUBMITTING\n",
      "\u001b[39m\u001b[0m"
     ]
    },
    {
     "name": "stdout",
     "output_type": "stream",
     "text": [
      "\u001b[94msubmit 1 unit(s)\n",
      "        \u001b[39m\u001b[0m.\u001b[39m\u001b[0m\u001b[92m                                                                     ok\n",
      "\u001b[39m\u001b[0m"
     ]
    },
    {
     "name": "stderr",
     "output_type": "stream",
     "text": [
      "\u001b[92mUpdate: \u001b[39m\u001b[0m\u001b[94msimple_mdff.Preparing the initial structure.Starting to load the initial structure state: EXECUTED\n",
      "\u001b[39m\u001b[0m\u001b[92mUpdate: \u001b[39m\u001b[0m\u001b[94msimple_mdff.Preparing the initial structure.Starting to load the initial structure state: FAILED\n",
      "\u001b[39m\u001b[0m\u001b[92mUpdate: \u001b[39m\u001b[0m\u001b[94msimple_mdff.Preparing the initial structure state: DONE\n",
      "\u001b[39m\u001b[0m\u001b[92mUpdate: \u001b[39m\u001b[0m\u001b[94msimple_mdff.Defining secondary structure restraints state: SCHEDULING\n",
      "\u001b[39m\u001b[0m\u001b[92mUpdate: \u001b[39m\u001b[0m\u001b[94msimple_mdff.Defining secondary structure restraints.task.0003 state: SCHEDULING\n",
      "\u001b[39m\u001b[0m\u001b[92mUpdate: \u001b[39m\u001b[0m\u001b[94msimple_mdff.Defining secondary structure restraints.task.0003 state: SCHEDULED\n",
      "\u001b[39m\u001b[0m\u001b[92mUpdate: \u001b[39m\u001b[0m\u001b[94msimple_mdff.Defining secondary structure restraints state: SCHEDULED\n",
      "\u001b[39m\u001b[0m\u001b[92mUpdate: \u001b[39m\u001b[0m\u001b[94msimple_mdff.Defining secondary structure restraints.task.0003 state: SUBMITTING\n",
      "\u001b[39m\u001b[0m"
     ]
    },
    {
     "name": "stdout",
     "output_type": "stream",
     "text": [
      "\u001b[94msubmit 1 unit(s)\n",
      "        \u001b[39m\u001b[0m.\u001b[39m\u001b[0m\u001b[92m                                                                     ok\n",
      "\u001b[39m\u001b[0m"
     ]
    },
    {
     "name": "stderr",
     "output_type": "stream",
     "text": [
      "\u001b[92mUpdate: \u001b[39m\u001b[0m\u001b[94msimple_mdff.Defining secondary structure restraints.task.0003 state: EXECUTED\n",
      "\u001b[39m\u001b[0m\u001b[92mUpdate: \u001b[39m\u001b[0m\u001b[94msimple_mdff.Defining secondary structure restraints.task.0003 state: FAILED\n",
      "\u001b[39m\u001b[0m\u001b[92mUpdate: \u001b[39m\u001b[0m\u001b[94msimple_mdff.Defining secondary structure restraints state: DONE\n",
      "\u001b[39m\u001b[0m\u001b[92mUpdate: \u001b[39m\u001b[0m\u001b[94msimple_mdff.Running the MDFF simulation with NAMD state: SCHEDULING\n",
      "\u001b[39m\u001b[0m\u001b[92mUpdate: \u001b[39m\u001b[0m\u001b[94msimple_mdff.Running the MDFF simulation with NAMD.task.0004 state: SCHEDULING\n",
      "\u001b[39m\u001b[0m\u001b[92mUpdate: \u001b[39m\u001b[0m\u001b[94msimple_mdff.Running the MDFF simulation with NAMD.task.0004 state: SCHEDULED\n",
      "\u001b[39m\u001b[0m\u001b[92mUpdate: \u001b[39m\u001b[0m\u001b[94msimple_mdff.Running the MDFF simulation with NAMD state: SCHEDULED\n",
      "\u001b[39m\u001b[0m\u001b[92mUpdate: \u001b[39m\u001b[0m\u001b[94msimple_mdff.Running the MDFF simulation with NAMD.task.0004 state: SUBMITTING\n",
      "\u001b[39m\u001b[0m"
     ]
    },
    {
     "name": "stdout",
     "output_type": "stream",
     "text": [
      "\u001b[94msubmit 1 unit(s)\n",
      "        \u001b[39m\u001b[0m.\u001b[39m\u001b[0m\u001b[92m                                                                     ok\n",
      "\u001b[39m\u001b[0m"
     ]
    },
    {
     "name": "stderr",
     "output_type": "stream",
     "text": [
      "\u001b[92mUpdate: \u001b[39m\u001b[0m\u001b[94msimple_mdff.Running the MDFF simulation with NAMD.task.0004 state: EXECUTED\n",
      "\u001b[39m\u001b[0m\u001b[92mUpdate: \u001b[39m\u001b[0m\u001b[94msimple_mdff.Running the MDFF simulation with NAMD.task.0004 state: FAILED\n",
      "\u001b[39m\u001b[0m\u001b[92mUpdate: \u001b[39m\u001b[0m\u001b[94msimple_mdff.Running the MDFF simulation with NAMD state: DONE\n",
      "\u001b[39m\u001b[0m\u001b[92mUpdate: \u001b[39m\u001b[0m\u001b[94msimple_mdff.NAMD simulation state: SCHEDULING\n",
      "\u001b[39m\u001b[0m\u001b[92mUpdate: \u001b[39m\u001b[0m\u001b[94msimple_mdff.NAMD simulation.task.0005 state: SCHEDULING\n",
      "\u001b[39m\u001b[0m\u001b[92mUpdate: \u001b[39m\u001b[0m\u001b[94msimple_mdff.NAMD simulation.task.0005 state: SCHEDULED\n",
      "\u001b[39m\u001b[0m\u001b[92mUpdate: \u001b[39m\u001b[0m\u001b[94msimple_mdff.NAMD simulation state: SCHEDULED\n",
      "\u001b[39m\u001b[0m\u001b[92mUpdate: \u001b[39m\u001b[0m\u001b[94msimple_mdff.NAMD simulation.task.0005 state: SUBMITTING\n",
      "\u001b[39m\u001b[0m"
     ]
    },
    {
     "name": "stdout",
     "output_type": "stream",
     "text": [
      "\u001b[94msubmit 1 unit(s)\n",
      "        \u001b[39m\u001b[0m.\u001b[39m\u001b[0m\u001b[92m                                                                     ok\n",
      "\u001b[39m\u001b[0m"
     ]
    },
    {
     "name": "stderr",
     "output_type": "stream",
     "text": [
      "\u001b[92mUpdate: \u001b[39m\u001b[0m\u001b[94msimple_mdff.NAMD simulation.task.0005 state: EXECUTED\n",
      "\u001b[39m\u001b[0m\u001b[92mUpdate: \u001b[39m\u001b[0m\u001b[94msimple_mdff.NAMD simulation.task.0005 state: FAILED\n",
      "\u001b[39m\u001b[0m\u001b[92mUpdate: \u001b[39m\u001b[0m\u001b[94msimple_mdff.NAMD simulation state: DONE\n",
      "\u001b[39m\u001b[0m\u001b[92mUpdate: \u001b[39m\u001b[0m\u001b[94msimple_mdff.Calculating the root mean square deviation state: SCHEDULING\n",
      "\u001b[39m\u001b[0m\u001b[92mUpdate: \u001b[39m\u001b[0m\u001b[94msimple_mdff.Calculating the root mean square deviation.task.0006 state: SCHEDULING\n",
      "\u001b[39m\u001b[0m\u001b[92mUpdate: \u001b[39m\u001b[0m\u001b[94msimple_mdff.Calculating the root mean square deviation.task.0006 state: SCHEDULED\n",
      "\u001b[39m\u001b[0m\u001b[92mUpdate: \u001b[39m\u001b[0m\u001b[94msimple_mdff.Calculating the root mean square deviation state: SCHEDULED\n",
      "\u001b[39m\u001b[0m\u001b[92mUpdate: \u001b[39m\u001b[0m\u001b[94msimple_mdff.Calculating the root mean square deviation.task.0006 state: SUBMITTING\n",
      "\u001b[39m\u001b[0m"
     ]
    },
    {
     "name": "stdout",
     "output_type": "stream",
     "text": [
      "\u001b[94msubmit 1 unit(s)\n",
      "        \u001b[39m\u001b[0m.\u001b[39m\u001b[0m\u001b[92m                                                                     ok\n",
      "\u001b[39m\u001b[0m"
     ]
    },
    {
     "name": "stderr",
     "output_type": "stream",
     "text": [
      "\u001b[92mUpdate: \u001b[39m\u001b[0m\u001b[94msimple_mdff.Calculating the root mean square deviation.task.0006 state: EXECUTED\n",
      "\u001b[39m\u001b[0m\u001b[92mUpdate: \u001b[39m\u001b[0m\u001b[94msimple_mdff.Calculating the root mean square deviation.task.0006 state: FAILED\n",
      "\u001b[39m\u001b[0m\u001b[92mUpdate: \u001b[39m\u001b[0m\u001b[94msimple_mdff.Calculating the root mean square deviation state: DONE\n",
      "\u001b[39m\u001b[0m\u001b[92mUpdate: \u001b[39m\u001b[0m\u001b[94msimple_mdff.Calculating the cross-correlation coefficient state: SCHEDULING\n",
      "\u001b[39m\u001b[0m\u001b[92mUpdate: \u001b[39m\u001b[0m\u001b[94msimple_mdff.Calculating the cross-correlation coefficient.task.0007 state: SCHEDULING\n",
      "\u001b[39m\u001b[0m\u001b[92mUpdate: \u001b[39m\u001b[0m\u001b[94msimple_mdff.Calculating the cross-correlation coefficient.task.0007 state: SCHEDULED\n",
      "\u001b[39m\u001b[0m\u001b[92mUpdate: \u001b[39m\u001b[0m\u001b[94msimple_mdff.Calculating the cross-correlation coefficient state: SCHEDULED\n",
      "\u001b[39m\u001b[0m\u001b[92mUpdate: \u001b[39m\u001b[0m\u001b[94msimple_mdff.Calculating the cross-correlation coefficient.task.0007 state: SUBMITTING\n",
      "\u001b[39m\u001b[0m"
     ]
    },
    {
     "name": "stdout",
     "output_type": "stream",
     "text": [
      "\u001b[94msubmit 1 unit(s)\n",
      "        \u001b[39m\u001b[0m.\u001b[39m\u001b[0m\u001b[92m                                                                     ok\n",
      "\u001b[39m\u001b[0m"
     ]
    },
    {
     "name": "stderr",
     "output_type": "stream",
     "text": [
      "\u001b[92mUpdate: \u001b[39m\u001b[0m\u001b[94msimple_mdff.Calculating the cross-correlation coefficient.task.0007 state: EXECUTED\n",
      "\u001b[39m\u001b[0m\u001b[92mUpdate: \u001b[39m\u001b[0m\u001b[94msimple_mdff.Calculating the cross-correlation coefficient.task.0007 state: FAILED\n",
      "\u001b[39m\u001b[0m\u001b[92mUpdate: \u001b[39m\u001b[0m\u001b[94msimple_mdff.Calculating the cross-correlation coefficient state: DONE\n",
      "\u001b[39m\u001b[0m\u001b[92mUpdate: \u001b[39m\u001b[0m\u001b[94msimple_mdff state: DONE\n",
      "\u001b[39m\u001b[0m"
     ]
    },
    {
     "name": "stdout",
     "output_type": "stream",
     "text": [
      "\u001b[94mwait for 1 pilot(s)\n",
      "        \u001b[39m\u001b[0mO\u001b[39m\u001b[0/\u001b[39m\u001b[0-\u001b[39m\u001b[0\\\u001b[39m\u001b[0|\u001b[39m\u001b[0/\u001b[39m\u001b[0-\u001b[39m\u001b[0\\\u001b[39m\u001b[0|\u001b[39m\u001b[0/\u001b[39m\u001b[0-\u001b[39m\u001b[0\\\u001b[39m\u001b[0|\u001b[39m\u001b[0/\u001b[39m\u001b[0-\u001b[39m\u001b[0\\\u001b[39m\u001b[0|\u001b[39m\u001b[0/\u001b[39m\u001b[0-\u001b[39m\u001b[0\\\u001b[39m\u001b[0|\u001b[39m\u001b[0/\u001b[39m\u001b[0-\u001b[39m\u001b[0\\\u001b[39m\u001b[0|\u001b[39m\u001b[0/\u001b[39m\u001b[0-\u001b[39m\u001b[0\\\u001b[39m\u001b[0|\u001b[39m\u001b[0/\u001b[39m\u001b[0-\u001b[39m\u001b[0\\\u001b[39m\u001b[0|\u001b[39m\u001b[0/\u001b[39m\u001b[0-\u001b[39m\u001b[0\\\u001b[39m\u001b[0|\u001b[39m\u001b[0/\u001b[39m\u001b[0-\u001b[39m\u001b[0\\\u001b[39m\u001b[0|\u001b[39m\u001b[0/\u001b[39m\u001b[0-\u001b[39m\u001b[0\\\u001b[39m\u001b[0|\u001b[39m\u001b[0/\u001b[39m\u001b[0-\u001b[39m\u001b[0\\\u001b[39m\u001b[0|\u001b[39m\u001b[0/\u001b[39m\u001b[0-\u001b[39m\u001b[0\\\u001b[39m\u001b[0|\u001b[39m\u001b[0/\u001b[39m\u001b[0-\u001b[39m\u001b[0\\\u001b[39m\u001b[0|\u001b[39m\u001b[0/\u001b[39m\u001b[0-\u001b[39m\u001b[0\\\u001b[39m\u001b[0|\u001b[39m\u001b[0/\u001b[39m\u001b[0-\u001b[39m\u001b[0\\\u001b[39m\u001b[0|\u001b[39m\u001b[0/\u001b[39m\u001b[0-\u001b[39m\u001b[0\\\u001b[39m\u001b[0|\u001b[39m\u001b[0/\u001b[39m\u001b[0-\u001b[39m\u001b[0\\\u001b[39m\u001b[0|\u001b[39m\u001b[0/\u001b[39m\u001b[0-\u001b[39m\u001b[0\\\u001b[39m\u001b[0|\u001b[39m\u001b[0/\u001b[39m\u001b[0-\u001b[39m\u001b[0\\\u001b[39m\u001b[0|\u001b[39m\u001b[0/\u001b[39m\u001b[0-\u001b[39m\u001b[0\\\u001b[39m\u001b[0|\u001b[39m\u001b[0/\u001b[39m\u001b[0-\u001b[39m\u001b[0\\\u001b[39m\u001b[0|\u001b[39m\u001b[0/\u001b[39m\u001b[0-\u001b[39m\u001b[0\\\u001b[39m\u001b[0|\u001b[39m\u001b[0/\u001b[39m\u001b[0-\u001b[39m\u001b[0\\\u001b[39m\u001b[0|\u001b[39m\u001b[0/\u001b[39m\u001b[0-\u001b[39m\u001b[0\\\u001b[39m\u001b[0|\u001b[39m\u001b[0/\u001b[39m\u001b[0-\u001b[39m\u001b[0\\\u001b[39m\u001b[0|\u001b[39m\u001b[0/\u001b[39m\u001b[0-\u001b[39m\u001b[0\\\u001b[39m\u001b[0|\u001b[39m\u001b[0/\u001b[39m\u001b[0-\u001b[39m\u001b[0\\\u001b[39m\u001b[0|\u001b[39m\u001b[0/\u001b[39m\u001b[0-\u001b[39m\u001b[0\\\u001b[39m\u001b[0|\u001b[39m\u001b[0/\u001b[39m\u001b[0-\u001b[39m\u001b[0\\\u001b[39m\u001b[0|\u001b[39m\u001b[0/\u001b[39m\u001b[0-\u001b[39m\u001b[0\\\u001b[39m\u001b[0|\u001b[39m\u001b[0/\u001b[39m\u001b[0-\u001b[39m\u001b[0\\\u001b[39m\u001b[0|\u001b[39m\u001b[0/\u001b[39m\u001b[0-\u001b[39m\u001b[0\\\u001b[39m\u001b[0|\u001b[39m\u001b[0/\u001b[39m\u001b[0-\u001b[39m\u001b[0\\\u001b[39m\u001b[0|\u001b[39m\u001b[0/\u001b[39m\u001b[0-\u001b[39m\u001b[0\\\u001b[39m\u001b[0|\u001b[39m\u001b[0/\u001b[39m\u001b[0-\u001b[39m\u001b[0\\\u001b[39m\u001b[0|\u001b[39m\u001b[0/\u001b[39m\u001b[0-\u001b[39m\u001b[0\\\u001b[39m\u001b[0|\u001b[39m\u001b[0/\u001b[39m\u001b[0-\u001b[39m\u001b[0\\\u001b[39m\u001b[0|\u001b[39m\u001b[0/\u001b[39m\u001b[0-\u001b[39m\u001b[0\\\u001b[39m\u001b[0|\u001b[39m\u001b[0/\u001b[39m\u001b[0-\u001b[39m\u001b[0\\\u001b[39m\u001b[0|\u001b[39m\u001b[0/\u001b[39m\u001b[0-\u001b[39m\u001b[0\\\u001b[39m\u001b[0|\u001b[39m\u001b[0/\u001b[39m\u001b[0-\u001b[39m\u001b[0\\\u001b[39m\u001b[0|\u001b[39m\u001b[0/\u001b[39m\u001b[0-\u001b[39m\u001b[0\\\u001b[39m\u001b[0|\u001b[39m\u001b[0/\u001b[39m\u001b[0-\u001b[39m\u001b[0\\\u001b[39m\u001b[0|\u001b[39m\u001b[0/\u001b[39m\u001b[0 \u001b[39m\u001b[0m\u001b[92m                                                                     ok\n",
      "\u001b[39m\u001b[0m\u001b[94mclosing session re.session.login3.hrlee.018218.0003\u001b[39m\u001b[0m\u001b[94m                            \\\n",
      "close pilot manager\u001b[39m\u001b[0m\u001b[94m                                                            \\\n",
      "wait for 1 pilot(s)\n",
      "        \u001b[39m\u001b[0mO\u001b[39m\u001b[0 \u001b[39m\u001b[0m\u001b[93m                                                                timeout\n",
      "\u001b[39m\u001b[0m\u001b[92m                                                                              ok\n",
      "\u001b[39m\u001b[0m\u001b[94msession lifetime: 1102.3s\u001b[39m\u001b[0m\u001b[92m                                                     ok\n",
      "\u001b[39m\u001b[0m"
     ]
    },
    {
     "name": "stderr",
     "output_type": "stream",
     "text": [
      "\u001b[94mAll components terminated\n",
      "\u001b[39m\u001b[0m"
     ]
    }
   ],
   "source": [
    "# Assign resource manager to the Application Manager\n",
    "appman.resource_desc = res_dict\n",
    "\n",
    "# Data shared between multiple tasks can be transferred while the \n",
    "# job is waiting on queue\n",
    "appman.shared_data = []\n",
    "\n",
    "# Assign the workflow as a set or list of Pipelines to the Application Manager\n",
    "appman.workflow = [p]\n",
    "\n",
    "# Run the Application Manager\n",
    "appman.run()"
   ]
  }
 ],
 "metadata": {
  "kernelspec": {
   "display_name": "py2.rp",
   "language": "python",
   "name": "py2.rp"
  },
  "language_info": {
   "codemirror_mode": {
    "name": "ipython",
    "version": 2
   },
   "file_extension": ".py",
   "mimetype": "text/x-python",
   "name": "python",
   "nbconvert_exporter": "python",
   "pygments_lexer": "ipython2",
   "version": "2.7.16"
  }
 },
 "nbformat": 4,
 "nbformat_minor": 2
}
