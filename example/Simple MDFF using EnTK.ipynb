{
 "cells": [
  {
   "cell_type": "markdown",
   "metadata": {},
   "source": [
    "## EnTK Modules\n",
    "\n",
    "There are mandatory modules to use for describing workflow as EnTK provides a PST model; Pipeline, Stage, and Task. Simple workflow starts with `AppManager`, for example:\n",
    "```python\n",
    "   \n",
    "   from radical import entk\n",
    "   appman = entk.AppManager()\n",
    "   p = entk.Pipeline()\n",
    "   s = entk.Stage()\n",
    "   t = entk.Task()\n",
    "   t.executable = \"echo Hello World\"\n",
    "   \n",
    "   s.add_tasks(t)\n",
    "   p.add_stages(s)\n",
    "   appman.workflow = []\n",
    "   appman.run()\n",
    "```\n",
    "\n",
    "Please refer to the API  for more details about Pipeline, Stage, and Task from here: https://radicalentk.readthedocs.io/en/latest/api/app_create.html"
   ]
  },
  {
   "cell_type": "markdown",
   "metadata": {},
   "source": [
    "### Start with import EnTK"
   ]
  },
  {
   "cell_type": "code",
   "execution_count": 3,
   "metadata": {},
   "outputs": [],
   "source": [
    "from radical import entk"
   ]
  },
  {
   "cell_type": "markdown",
   "metadata": {},
   "source": [
    "### Preparing a job:  resource requests\n",
    "Resource request to HPC machines consists in a number of CPUs/GPUs, computing expected duration, queue name and project name to charge. This is similar to a batch script in Slurm or IBM LSF. In addition, EnTK provides a task/cpu-gpu control to allocate a different number of CPUs/GPUs for simulation/analysis phase."
   ]
  },
  {
   "cell_type": "code",
   "execution_count": 31,
   "metadata": {},
   "outputs": [],
   "source": [
    "resource_config = {'ornl_summit':\n",
    "                   {'label': 'ornl.summit',\n",
    "                    'walltime': 30,\n",
    "                    'cpus': 168,\n",
    "                    'gpus': 0,\n",
    "                    'queue': 'batch',\n",
    "                    'access_schema': 'local',\n",
    "                    'project':'CSC393'}}\n",
    "\n",
    "workflow_config = { 'ornl_summit' : \n",
    "                   { 'simulation': \n",
    "                    { 'cpus': 168 },\n",
    "                    'analysis': \n",
    "                    { 'cpus': 1 }}}"
   ]
  },
  {
   "cell_type": "markdown",
   "metadata": {},
   "source": [
    "## Simple MDFF by EnTK\n",
    "\n",
    "Let's try to integrate Simple MDFF with EnTK. According to the [Simple MDFF Tutorial](https://www.ks.uiuc.edu/Training/Tutorials/science/mdff/tutorial_mdff-html/), there are multiple steps:\n",
    "- Get sample PDB files (Task 1)\n",
    "- Generate a simulated density map (Task 1)\n",
    "- Convert the density map to an MDFF potential (Task 2)\n",
    "- Prepare the initial structure (Task 3)\n",
    "- Defining secondary structure restraints (Task 4)\n",
    "- Run the MDFF simulation with NAMD (Task 5, 6)\n",
    "- Calculate the root mean square deviation (Task 7)"
   ]
  },
  {
   "cell_type": "markdown",
   "metadata": {},
   "source": [
    "### Required command line tools\n",
    "There are tools we will use in Simple MDFF:\n",
    "\n",
    "- NAMD\n",
    "- VMD\n",
    "\n",
    "We use these on OLCF Summit:"
   ]
  },
  {
   "cell_type": "code",
   "execution_count": null,
   "metadata": {},
   "outputs": [],
   "source": [
    "vmd_path = '/gpfs/alpine/world-shared/bip115/VMD_binaries/VMD-xlc-build-2019-Nov-11/bin/vmd'\n",
    "namd_path = '/gpfs/alpine/world-shared/bip115/NAMD_binaries/summit/NAMD_build.latest/Linux-POWER-MPI-smp-Summit/namd2'"
   ]
  },
  {
   "cell_type": "markdown",
   "metadata": {},
   "source": [
    "## VMD helper functions for tcl script\n",
    "\n",
    "This function creates `tcl` script on the fly while Task is written in the following section."
   ]
  },
  {
   "cell_type": "code",
   "execution_count": 4,
   "metadata": {},
   "outputs": [],
   "source": [
    "def set_vmd_run(task, list_of_cmd, name=None):\n",
    "    tcl_script_in_string = \"\\n\".join(list_of_cmd) + \"\\nexit\"\n",
    "    task.pre_exec += [ \"echo '{}' > {}\".format(tcl_script_in_string, name or \"input.tcl\")]\n",
    "    task.executable = vmd_path + ' -dispdev text -e ' + fname"
   ]
  },
  {
   "cell_type": "markdown",
   "metadata": {},
   "source": [
    "### Start with Pipeline"
   ]
  },
  {
   "cell_type": "code",
   "execution_count": 5,
   "metadata": {},
   "outputs": [],
   "source": [
    "p = Pipeline()\n",
    "p.name = 'simple-mdff'\n",
    "\n",
    "\n",
    "task1_output = ['4ake-target_autopsf.situs']\n",
    "task2_output = ['4ake-target_autopsf-grid.dx']\n",
    "task3_output = ['1ake-initial_autopsf-grid.pdb']\n",
    "task4_output = ['1ake-extrabonds.txt', '1ake-extrabonds-cispeptide.txt', '1ake-extrabonds-chirality.txt']\n",
    "\n",
    "\n",
    "first_stage = Stage()\n",
    "# We use names of pipelines, stages, tasks to refer to data of a\n",
    "# particular task\n",
    "first_stage.name = 'Generating a simulated density map'\n",
    "\n",
    "\n",
    "# Create tasks and add them to stage\n",
    "task1 = Task()\n",
    "task1.name = 'Starting to load the target PDB'\n",
    "task1.cpu_reqs['threads_per_process'] = workflow_config['ornl_summit']['simulation']['cpus']\n",
    "task1.pre_exec = [ \"/usr/bin/wget https://www.ks.uiuc.edu/Training/Tutorials/science/mdff/mdff-tutorial-files/2-mdff-vacuo/4ake-target.pdb\" ]\n",
    "task1_tcl_cmds = [ 'mol new 4ake-target.pdb' ]\n",
    "task1_tcl_cmds += [ 'package require autopsf' ]\n",
    "task1_tcl_cmds += [ 'autopsf 4ake-target.pdb' ]\n",
    "task1_tcl_cmds += [ 'set sel [atomselect top all]' ]\n",
    "task1_tcl_cmds += [ 'package require mdff']\n",
    "task1_tcl_cmds += [ 'mdff sim $sel -res 5 -o {}'.format(task1_output[0]) ]\n",
    "task1_tcl_cmds += [ 'mol new {}'.format(task1_output[0]) ]\n",
    "\n",
    "set_vmd_run(task1, task1_tcl_cmds, \"first_stage.tcl\")\n",
    "first_stage.add_tasks(task1)\n",
    "# Add sim_stage to Pipeline\n",
    "p.add_stages(first_stage)\n",
    "\n",
    "\n",
    "second_stage = Stage()\n",
    "second_stage.name = 'Converting the density map to an MDFF potential'\n",
    "\n",
    "task2 = Task()\n",
    "task2.name = 'generate dx file'\n",
    "task2.cpu_reqs['threads_per_process'] = workflow_config['ornl_summit']['simulation']['cpus']\n",
    "task2_tcl_cmds = [ 'package require mdff' ]\n",
    "task2_tcl_cmds += [ 'mdff griddx -i {} -o {}'.format(task1_output[0], task2_output[0]) ]\n",
    "task2.copy_input_data = ['$Pipeline_{}_Stage_{}_Task_{}/{}'.format(p.name, first_stage.name, task1.name, task1_output[0])]\n",
    "\n",
    "\n",
    "set_vmd_run(task2, task2_tcl_cmds, \"second_stage.tcl\")\n",
    "second_stage.add_tasks(task2)\n",
    "p.add_stages(second_stage)\n",
    "\n",
    "\n",
    "third_stage = Stage()\n",
    "third_stage.name = 'Preparing the initial structure'\n",
    "\n",
    "task3 = Task()\n",
    "task3.name = 'Starting to load the initial structure'\n",
    "task3.cpu_reqs['threads_per_process'] = workflow_config['ornl_summit']['simulation']['cpus']\n",
    "task3.pre_exec = [ '/usr/bin/wget https://www.ks.uiuc.edu/Training/Tutorials/science/mdff/mdff-tutorial-files/2-mdff-vacuo/1ake-initial.pdb' ]\n",
    "task3_tcl_cmds = [ 'mol new 1ake-initial.pdb' ]\n",
    "task3_tcl_cmds += [ 'package require autopsf' ]\n",
    "task3_tcl_cmds += [ 'autopsf 1ake-initial.pdb' ]\n",
    "task3_tcl_cmds += [ 'package require mdff' ]\n",
    "task3_tcl_cmds += [ 'mdff gridpdb -psf 1ake-initial_autopsf.psf -pdb 1ake-initial_autopsf.pdb -o {}'.format(task3_output[0]) ]\n",
    "\n",
    "set_vmd_run(task3, task3_tcl_cmds, \"third_stage.tcl\")\n",
    "third_stage.add_tasks(task3)\n",
    "p.add_stages(third_stage)\n",
    "\n",
    "\n",
    "fourth_stage = Stage()\n",
    "fourth_stage.name = 'Defining secondary structure restraints'\n",
    "\n",
    "task4 = Task()\n",
    "task4.cpu_reqs['threads_per_process'] = workflow_config['ornl_summit']['simulation']['cpus']\n",
    "task4_tcl_cmds = [ 'package require ssrestraints' ]\n",
    "task4_tcl_cmds += [ 'ssrestraints -psf 1ake-initial_autopsf.psf -pdb 1ake-initial_autopsf.pdb -o {} -hbonds'.format(task4_output[0]) ]\n",
    "task4_tcl_cmds += [ \n",
    "        'mol new 1ake-initial_autopsf.psf',\n",
    "        'mol addfile 1ake-initial_autopsf.pdb',\n",
    "        'package require cispeptide',\n",
    "        'package require chirality',\n",
    "        'cispeptide restrain -o {}'.format(task4_output[1]),\n",
    "        'chirality restrain -o {}'.format(task4_output[2]),\n",
    "        ]\n",
    "task4.copy_input_data = ['$Pipeline_{}_Stage_{}_Task_{}/{}'.format(p.name, third_stage.name, task3.name, '1ake-initial_autopsf.pdb'),\n",
    "        '$Pipeline_{}_Stage_{}_Task_{}/{}'.format(p.name, third_stage.name, task3.name, '1ake-initial_autopsf.psf')]\n",
    "\n",
    "set_vmd_run(task4, task4_tcl_cmds, \"fourth_stage.tcl\")\n",
    "fourth_stage.add_tasks(task4)\n",
    "p.add_stages(fourth_stage)\n",
    "\n",
    "\n",
    "#fifth_stage = Stage()\n",
    "#fifth_stage.name = 'Rigid-body docking the structure into the density map'\n",
    "#task = Task()\n",
    "#task.cpu_reqs['threads_per_process'] = workflow_config['ornl_summit']['simulation']['cpus']\n",
    "# Expect to run Situs package\n",
    "# colores 4ake-target_autopsf.situs 1ake-initial_autopsf.pdb -res 5 -nopowell\n",
    "# However, this example uses prepared pdb files by wget\n",
    "#task.pre_exec = [ '/usr/bin/wget https://www.ks.uiuc.edu/Training/Tutorials/science/mdff/mdff-tutorial-files/2-mdff-vacuo/1ake-colores.pdb' ]\n",
    "#task.executable = [ 'mv' ]\n",
    "#task.arguments  = [ '1ake-colores.pdb', '1ake-initial_autopsf-docked.pdb' ]\n",
    "\n",
    "#fifth_stage.add_tasks(task)\n",
    "#p.add_stages(fifth_stage)\n",
    "\n",
    "\n",
    "sixth_stage = Stage()\n",
    "sixth_stage.name = 'Running the MDFF simulation with NAMD'\n",
    "task6 = Task()\n",
    "task6.cpu_reqs['threads_per_process'] = workflow_config['ornl_summit']['simulation']['cpus']\n",
    "task6.pre_exec = [ '/usr/bin/wget https://www.ks.uiuc.edu/Training/Tutorials/science/mdff/mdff-tutorial-files/2-mdff-vacuo/1ake-colores.pdb' ]\n",
    "task6.pre_exec += [ 'mv 1ake-colores.pdb 1ake-initial_autopsf-docked.pdb' ] \n",
    "task6_tcl_cmds = [ 'package require mdff' ]\n",
    "task6_tcl_cmds += [ 'mdff setup -o adk -psf 1ake-initial_autopsf.psf ' \\\n",
    "        + '-pdb 1ake-initial_autopsf-docked.pdb ' \\\n",
    "        + '-griddx 4ake-target_autopsf-grid.dx ' \\\n",
    "        + '-gridpdb 1ake-initial_autopsf-grid.pdb ' \\\n",
    "        + '-extrab {1ake-extrabonds.txt 1ake-extrabonds-cispeptide.txt 1ake-extrabonds-chirality.txt} ' \\\n",
    "        + '-gscale 0.3 -numsteps 50000' ]\n",
    "task6_tcl_cmds += [ 'mdff setup -o adk -psf 1ake-initial_autopsf.psf ' \\\n",
    "        + '-pdb 1ake-initial_autopsf-docked.pdb ' \\\n",
    "        + '-griddx 4ake-target_autopsf-grid.dx ' \\\n",
    "        + '-gridpdb 1ake-initial_autopsf-grid.pdb ' \\\n",
    "        + '-extrab {1ake-extrabonds.txt 1ake-extrabonds-cispeptide.txt 1ake-extrabonds-chirality.txt} ' \\\n",
    "        + '-gscale 10 -minsteps 2000 -numsteps 0 -step 2' ]\n",
    "task6.copy_input_data = [ '$Pipeline_{}_Stage_{}_Task_{}/{}'.format(p.name, second_stage.name, task2.name, '4ake-target_autopsf-grid.dx'),\n",
    "        '$Pipeline_{}_Stage_{}_Task_{}/{}'.format(p.name, third_stage.name, task3.name, '1ake-initial_autopsf.pdb'),\n",
    "        '$Pipeline_{}_Stage_{}_Task_{}/{}'.format(p.name, third_stage.name, task3.name, '1ake-initial_autopsf.psf'),\n",
    "        '$Pipeline_{}_Stage_{}_Task_{}/{}'.format(p.name, third_stage.name, task3.name, '1ake-initial_autopsf-grid.pdb'),\n",
    "        '$Pipeline_{}_Stage_{}_Task_{}/{}'.format(p.name, fourth_stage.name, task4.name, task4_output[0]),\n",
    "        '$Pipeline_{}_Stage_{}_Task_{}/{}'.format(p.name, fourth_stage.name, task4.name, task4_output[1]),\n",
    "        '$Pipeline_{}_Stage_{}_Task_{}/{}'.format(p.name, fourth_stage.name, task4.name, task4_output[2])]\n",
    "\n",
    "\n",
    "set_vmd_run(task6, task6_tcl_cmds, \"sixth_stage.tcl\")\n",
    "sixth_stage.add_tasks(task6)\n",
    "p.add_stages(sixth_stage)"
   ]
  },
  {
   "cell_type": "markdown",
   "metadata": {},
   "source": [
    "### NAMD Task\n",
    "In this task, we can allocate many cores for parallel execution of NAMD simulation by `sim_cpus` defined by `workflow_config` earlier. Also, there is `download_output_data` special variable to download output file to your local directory. For example, `.dcd` file will be downloaded on your current directory."
   ]
  },
  {
   "cell_type": "code",
   "execution_count": null,
   "metadata": {},
   "outputs": [],
   "source": [
    "seventh_stage = Stage()\n",
    "seventh_stage.name = \"NAMD simulation\"\n",
    "task7 = Task()\n",
    "task7.cpu_reqs['threads_per_process'] = workflow_config['ornl_summit']['simulation']['cpus']\n",
    "task7.executable = [ namd_path ]\n",
    "task7.arguments = ['+ppn', sim_cpus, 'adk-step1.namd']\n",
    "task7.copy_input_data = [ '$Pipeline_{}_Stage_{}_Task_{}/{}'.format(p.name, sixth_stage.name, task6.name, 'adk-step1.namd'),\n",
    "    '$Pipeline_{}_Stage_{}_Task_{}/{}'.format(p.name, sixth_stage.name, task6.name, 'adk-step2.namd'),\n",
    "    '$Pipeline_{}_Stage_{}_Task_{}/{}'.format(p.name, sixth_stage.name, task6.name, '1ake-initial_autopsf.psf'),\n",
    "    '$Pipeline_{}_Stage_{}_Task_{}/{}'.format(p.name, sixth_stage.name, task6.name, '1ake-initial_autopsf-docked.pdb'),\n",
    "    '$Pipeline_{}_Stage_{}_Task_{}/{}'.format(p.name, sixth_stage.name, task6.name, '1ake-initial_autopsf-grid.pdb'),\n",
    "    '$Pipeline_{}_Stage_{}_Task_{}/{}'.format(p.name, sixth_stage.name, task6.name, '4ake-target_autopsf-grid.dx'),\n",
    "    '$Pipeline_{}_Stage_{}_Task_{}/{}'.format(p.name, sixth_stage.name, task6.name, '1ake-extrabonds-chirality.txt'),\n",
    "    '$Pipeline_{}_Stage_{}_Task_{}/{}'.format(p.name, sixth_stage.name, task6.name, '1ake-extrabonds-cispeptide.txt'),\n",
    "    '$Pipeline_{}_Stage_{}_Task_{}/{}'.format(p.name, sixth_stage.name, task6.name, '1ake-extrabonds.txt'),\n",
    "    '$Pipeline_{}_Stage_{}_Task_{}/{}'.format(p.name, sixth_stage.name, task6.name, 'mdff_template.namd'),\n",
    "    '$Pipeline_{}_Stage_{}_Task_{}/{}'.format(p.name, sixth_stage.name, task6.name, 'par_all27_prot_lipid_na.inp')\n",
    "    ]\n",
    "task7.download_output_data = ['adk-step1.dcd']\n",
    "seventh_stage.add_tasks(task7)\n",
    "#task7_2 = Task()\n",
    "#task7_2.cpu_reqs['threads_per_process'] = workflow_config['ornl_summit']['simulation']['cpus']    \n",
    "#task7_2.executable = [ 'namd2' ]\n",
    "#task7_2.executable = [ 'namd2' ]\n",
    "#task7_2.arguments = ['+ppn', sim_cpus, 'adk-step2.namd']\n",
    "#seventh_stage.add_tasks(task7_2)\n",
    "p.add_stages(seventh_stage)"
   ]
  },
  {
   "cell_type": "markdown",
   "metadata": {},
   "source": [
    "### RMSD and correlation Tasks"
   ]
  },
  {
   "cell_type": "code",
   "execution_count": null,
   "metadata": {},
   "outputs": [],
   "source": [
    "# Visualizing the MDFF trajectory\n",
    "#\n",
    "# mol new 4ake-target_autopsf.psf    \n",
    "# mol addfile 4ake-target_autopsf.pdb  \n",
    "# mol new 1ake-initial_autopsf.psf   \n",
    "# mol addfile 1ake-initial_autopsf-docked.pdb  \n",
    "# mol addfile adk-step1.dcd  \n",
    "# mol addfile adk-step2.dcd\n",
    "\n",
    "\n",
    "eighth_stage = Stage()\n",
    "eighth_stage.name = 'Calculating the root mean square deviation'\n",
    "task8 = Task()\n",
    "task8.cpu_reqs['threads_per_process'] = workflow_config['ornl_summit']['simulation']['cpus']\n",
    "task8_tcl_cmds = [ \n",
    "        'package require mdff',\n",
    "        'mdff check -rmsd -refpdb 4ake-target_autopsf.pdb',\n",
    "        'set selbbref [atomselect 0 \"backbone\"]',\n",
    "        'set selbb [atomselect 1 \"backbone\"]',\n",
    "        '$selbb frame 0',\n",
    "        'measure rmsd $selbb $selbbref',\n",
    "        '$selbb frame last',\n",
    "        'measure rmsd $selbb $selbbref'\n",
    "        ]\n",
    "\n",
    "task8.copy_input_data = [ '$Pipeline_{}_Stage_{}_Task_{}/{}'.format(p.name, first_stage.name, task1.name, '4ake-target_autopsf.pdb')]\n",
    "set_vmd_run(task8, task8_tcl_cmds, \"eighth_stage.tcl\")\n",
    "eighth_stage.add_tasks(task8)\n",
    "p.add_stages(eighth_stage)\n",
    "\n",
    "\n",
    "ninth_stage = Stage()\n",
    "ninth_stage.name = 'Calculating the cross-correlation coefficient'\n",
    "task9 = Task()\n",
    "task9.cpu_reqs['threads_per_process'] = workflow_config['ornl_summit']['simulation']['cpus']\n",
    "task9_tcl_cmds = [ \n",
    "        'package require mdff',\n",
    "        'mdff check -ccc -map 4ake-target_autopsf.situs -res 5',\n",
    "        'set selallref [atomselect 0 \"all\"]',\n",
    "        'set selall [atomselect 1 \"all\"]',\n",
    "        '$selall frame 0',\n",
    "        'mdff ccc $selall -i 4ake-target_autopsf.situs -res 5',\n",
    "        '$selall frame last',\n",
    "        'mdff ccc $selall -i 4ake-target_autopsf.situs -res 5']\n",
    "\n",
    "task9.copy_input_data = [ \n",
    "    '$Pipeline_{}_Stage_{}_Task_{}/{}'.format(p.name, first_stage.name, task1.name, '4ake-target_autopsf.situs')]\n",
    "set_vmd_run(task9, task9_tcl_cmds, \"ninth_stage.tcl\")\n",
    "ninth_stage.add_tasks(task9)\n",
    "p.add_stages(ninth_stage)"
   ]
  },
  {
   "cell_type": "markdown",
   "metadata": {},
   "source": [
    "### EnTK AppManager with RabbitMQ\n",
    "EnTK uses RabbmitMQ for the communication channel and here we define which host will be served."
   ]
  },
  {
   "cell_type": "code",
   "execution_count": 25,
   "metadata": {},
   "outputs": [
    {
     "name": "stderr",
     "output_type": "stream",
     "text": [
      "\u001b[94mEnTK session: re.session.login3.hrlee.018218.0003\n",
      "\u001b[39m\u001b[0m\u001b[94mCreating AppManager\u001b[39m\u001b[0m\u001b[94mSetting up RabbitMQ system\u001b[39m\u001b[0m\u001b[92m                                 ok\n",
      "\u001b[39m\u001b[0m\u001b[92m                                                                              ok\n",
      "\u001b[39m\u001b[0m"
     ]
    }
   ],
   "source": [
    "comms = { 'rabbitmq':{\n",
    "    'hostname': 'two.radical-project.org',\n",
    "    'port': 33239\n",
    "}\n",
    "\n",
    "# Create Application Manager\n",
    "appman = AppManager(hostname=comms['rabbitmq']['hostname'], \n",
    "                        port=comms['rabbitmq']['port'])"
   ]
  },
  {
   "cell_type": "code",
   "execution_count": 32,
   "metadata": {},
   "outputs": [],
   "source": [
    "# Create a dictionary describe five mandatory keys:\n",
    "# resource, walltime, cores, queue and access_schema\n",
    "resource = \"ornl_summit\"\n",
    "res_dict = {\n",
    "\n",
    "    'resource': resource_config[resource]['label'],\n",
    "    'walltime': resource_config[resource]['walltime'],\n",
    "    'cpus': resource_config[resource]['cpus'],\n",
    "    'queue': resource_config[resource]['queue'],\n",
    "    'access_schema': resource_config[resource]['access_schema'],\n",
    "    'project': resource_config[resource]['project']\n",
    "}\n",
    "# Assign resource manager to the Application Manager\n",
    "appman.resource_desc = res_dict"
   ]
  },
  {
   "cell_type": "markdown",
   "metadata": {},
   "source": [
    "### Run EnTK for Simple MDFF (WIP on Summit)\n",
    "- This step starts with `resource_desc` for job description, and `run()` method triggers the job to start."
   ]
  },
  {
   "cell_type": "code",
   "execution_count": 33,
   "metadata": {
    "scrolled": false
   },
   "outputs": [
    {
     "name": "stderr",
     "output_type": "stream",
     "text": [
      "\u001b[94mValidating and assigning resource manager\u001b[39m\u001b[0m\u001b[92m                                     ok\n",
      "\u001b[39m\u001b[0m\u001b[94mSetting up RabbitMQ system\u001b[39m\u001b[0m\u001b[92m                                                    ok\n",
      "\u001b[39m\u001b[0m"
     ]
    },
    {
     "name": "stdout",
     "output_type": "stream",
     "text": [
      "\u001b[92m                                                                              ok\n",
      "\u001b[39m\u001b[0m\u001b[94mcreate pilot manager\u001b[39m\u001b[0m\u001b[92m                                                          ok\n",
      "\u001b[39m\u001b[0m\u001b[94msubmit 1 pilot(s)\n",
      "        \u001b[39m\u001b[0m[ornl.summit:168]\n",
      "        \u001b[39m\u001b[0m\u001b[92m                                                                      ok\n",
      "\u001b[39m\u001b[0m"
     ]
    },
    {
     "name": "stderr",
     "output_type": "stream",
     "text": [
      "\u001b[92mAll components created\n",
      "\u001b[92mUpdate: \u001b[39m\u001b[0m\u001b[39m\u001b[0m\u001b[94msimple_mdff state: SCHEDULING\n",
      "\u001b[39m\u001b[0m\u001b[92mUpdate: \u001b[39m\u001b[0m\u001b[94msimple_mdff.Generating a simulated density map state: SCHEDULING\n",
      "\u001b[39m\u001b[0m\u001b[92mUpdate: \u001b[39m\u001b[0m\u001b[94msimple_mdff.Generating a simulated density map.Starting to load the target PDB state: SCHEDULING\n",
      "\u001b[39m\u001b[0m\u001b[92mUpdate: \u001b[39m\u001b[0m\u001b[94msimple_mdff.Generating a simulated density map.Starting to load the target PDB state: SCHEDULED\n",
      "\u001b[39m\u001b[0m\u001b[92mUpdate: \u001b[39m\u001b[0m\u001b[94msimple_mdff.Generating a simulated density map state: SCHEDULED\n",
      "\u001b[39m\u001b[0m"
     ]
    },
    {
     "name": "stdout",
     "output_type": "stream",
     "text": [
      "\u001b[94mcreate unit manager\u001b[39m\u001b[0m"
     ]
    },
    {
     "name": "stderr",
     "output_type": "stream",
     "text": [
      "/ccs/home/hrlee/venv/rp/lib/python2.7/site-packages/pymongo/topology.py:155: UserWarning: MongoClient opened before fork. Create MongoClient only after forking. See PyMongo's documentation for details: http://api.mongodb.org/python/current/faq.html#is-pymongo-fork-safe\n",
      "  \"MongoClient opened before fork. Create MongoClient only \"\n"
     ]
    },
    {
     "name": "stdout",
     "output_type": "stream",
     "text": [
      "\u001b[92m                                                           ok\n",
      "\u001b[39m\u001b[0m\u001b[94madd 1 pilot(s)\u001b[39m\u001b[0m\u001b[92m                                                                ok\n",
      "\u001b[39m\u001b[0m"
     ]
    },
    {
     "name": "stderr",
     "output_type": "stream",
     "text": [
      "\u001b[92mUpdate: \u001b[39m\u001b[0m\u001b[94msimple_mdff.Generating a simulated density map.Starting to load the target PDB state: SUBMITTING\n",
      "\u001b[39m\u001b[0m"
     ]
    },
    {
     "name": "stdout",
     "output_type": "stream",
     "text": [
      "\u001b[94msubmit 1 unit(s)\n",
      "        \u001b[39m\u001b[0m.\u001b[39m\u001b[0m\u001b[92m                                                                     ok\n",
      "\u001b[39m\u001b[0m"
     ]
    },
    {
     "name": "stderr",
     "output_type": "stream",
     "text": [
      "\u001b[92mUpdate: \u001b[39m\u001b[0m\u001b[94msimple_mdff.Generating a simulated density map.Starting to load the target PDB state: EXECUTED\n",
      "\u001b[39m\u001b[0m\u001b[92mUpdate: \u001b[39m\u001b[0m\u001b[94msimple_mdff.Generating a simulated density map.Starting to load the target PDB state: FAILED\n",
      "\u001b[39m\u001b[0m\u001b[92mUpdate: \u001b[39m\u001b[0m\u001b[94msimple_mdff.Generating a simulated density map state: DONE\n",
      "\u001b[39m\u001b[0m\u001b[92mUpdate: \u001b[39m\u001b[0m\u001b[94msimple_mdff.Converting the density map to an MDFF potential state: SCHEDULING\n",
      "\u001b[39m\u001b[0m\u001b[92mUpdate: \u001b[39m\u001b[0m\u001b[94msimple_mdff.Converting the density map to an MDFF potential.generate dx file state: SCHEDULING\n",
      "\u001b[39m\u001b[0m\u001b[92mUpdate: \u001b[39m\u001b[0m\u001b[94msimple_mdff.Converting the density map to an MDFF potential.generate dx file state: SCHEDULED\n",
      "\u001b[39m\u001b[0m\u001b[92mUpdate: \u001b[39m\u001b[0m\u001b[94msimple_mdff.Converting the density map to an MDFF potential state: SCHEDULED\n",
      "\u001b[39m\u001b[0m\u001b[92mUpdate: \u001b[39m\u001b[0m\u001b[94msimple_mdff.Converting the density map to an MDFF potential.generate dx file state: SUBMITTING\n",
      "\u001b[39m\u001b[0m"
     ]
    },
    {
     "name": "stdout",
     "output_type": "stream",
     "text": [
      "\u001b[94msubmit 1 unit(s)\n",
      "        \u001b[39m\u001b[0m.\u001b[39m\u001b[0m\u001b[92m                                                                     ok\n",
      "\u001b[39m\u001b[0m"
     ]
    },
    {
     "name": "stderr",
     "output_type": "stream",
     "text": [
      "\u001b[92mUpdate: \u001b[39m\u001b[0m\u001b[94msimple_mdff.Converting the density map to an MDFF potential.generate dx file state: EXECUTED\n",
      "\u001b[39m\u001b[0m\u001b[92mUpdate: \u001b[39m\u001b[0m\u001b[94msimple_mdff.Converting the density map to an MDFF potential.generate dx file state: FAILED\n",
      "\u001b[39m\u001b[0m\u001b[92mUpdate: \u001b[39m\u001b[0m\u001b[94msimple_mdff.Converting the density map to an MDFF potential state: DONE\n",
      "\u001b[39m\u001b[0m\u001b[92mUpdate: \u001b[39m\u001b[0m\u001b[94msimple_mdff.Preparing the initial structure state: SCHEDULING\n",
      "\u001b[39m\u001b[0m\u001b[92mUpdate: \u001b[39m\u001b[0m\u001b[94msimple_mdff.Preparing the initial structure.Starting to load the initial structure state: SCHEDULING\n",
      "\u001b[39m\u001b[0m\u001b[92mUpdate: \u001b[39m\u001b[0m\u001b[94msimple_mdff.Preparing the initial structure.Starting to load the initial structure state: SCHEDULED\n",
      "\u001b[39m\u001b[0m\u001b[92mUpdate: \u001b[39m\u001b[0m\u001b[94msimple_mdff.Preparing the initial structure state: SCHEDULED\n",
      "\u001b[39m\u001b[0m\u001b[92mUpdate: \u001b[39m\u001b[0m\u001b[94msimple_mdff.Preparing the initial structure.Starting to load the initial structure state: SUBMITTING\n",
      "\u001b[39m\u001b[0m"
     ]
    },
    {
     "name": "stdout",
     "output_type": "stream",
     "text": [
      "\u001b[94msubmit 1 unit(s)\n",
      "        \u001b[39m\u001b[0m.\u001b[39m\u001b[0m\u001b[92m                                                                     ok\n",
      "\u001b[39m\u001b[0m"
     ]
    },
    {
     "name": "stderr",
     "output_type": "stream",
     "text": [
      "\u001b[92mUpdate: \u001b[39m\u001b[0m\u001b[94msimple_mdff.Preparing the initial structure.Starting to load the initial structure state: EXECUTED\n",
      "\u001b[39m\u001b[0m\u001b[92mUpdate: \u001b[39m\u001b[0m\u001b[94msimple_mdff.Preparing the initial structure.Starting to load the initial structure state: FAILED\n",
      "\u001b[39m\u001b[0m\u001b[92mUpdate: \u001b[39m\u001b[0m\u001b[94msimple_mdff.Preparing the initial structure state: DONE\n",
      "\u001b[39m\u001b[0m\u001b[92mUpdate: \u001b[39m\u001b[0m\u001b[94msimple_mdff.Defining secondary structure restraints state: SCHEDULING\n",
      "\u001b[39m\u001b[0m\u001b[92mUpdate: \u001b[39m\u001b[0m\u001b[94msimple_mdff.Defining secondary structure restraints.task.0003 state: SCHEDULING\n",
      "\u001b[39m\u001b[0m\u001b[92mUpdate: \u001b[39m\u001b[0m\u001b[94msimple_mdff.Defining secondary structure restraints.task.0003 state: SCHEDULED\n",
      "\u001b[39m\u001b[0m\u001b[92mUpdate: \u001b[39m\u001b[0m\u001b[94msimple_mdff.Defining secondary structure restraints state: SCHEDULED\n",
      "\u001b[39m\u001b[0m\u001b[92mUpdate: \u001b[39m\u001b[0m\u001b[94msimple_mdff.Defining secondary structure restraints.task.0003 state: SUBMITTING\n",
      "\u001b[39m\u001b[0m"
     ]
    },
    {
     "name": "stdout",
     "output_type": "stream",
     "text": [
      "\u001b[94msubmit 1 unit(s)\n",
      "        \u001b[39m\u001b[0m.\u001b[39m\u001b[0m\u001b[92m                                                                     ok\n",
      "\u001b[39m\u001b[0m"
     ]
    },
    {
     "name": "stderr",
     "output_type": "stream",
     "text": [
      "\u001b[92mUpdate: \u001b[39m\u001b[0m\u001b[94msimple_mdff.Defining secondary structure restraints.task.0003 state: EXECUTED\n",
      "\u001b[39m\u001b[0m\u001b[92mUpdate: \u001b[39m\u001b[0m\u001b[94msimple_mdff.Defining secondary structure restraints.task.0003 state: FAILED\n",
      "\u001b[39m\u001b[0m\u001b[92mUpdate: \u001b[39m\u001b[0m\u001b[94msimple_mdff.Defining secondary structure restraints state: DONE\n",
      "\u001b[39m\u001b[0m\u001b[92mUpdate: \u001b[39m\u001b[0m\u001b[94msimple_mdff.Running the MDFF simulation with NAMD state: SCHEDULING\n",
      "\u001b[39m\u001b[0m\u001b[92mUpdate: \u001b[39m\u001b[0m\u001b[94msimple_mdff.Running the MDFF simulation with NAMD.task.0004 state: SCHEDULING\n",
      "\u001b[39m\u001b[0m\u001b[92mUpdate: \u001b[39m\u001b[0m\u001b[94msimple_mdff.Running the MDFF simulation with NAMD.task.0004 state: SCHEDULED\n",
      "\u001b[39m\u001b[0m\u001b[92mUpdate: \u001b[39m\u001b[0m\u001b[94msimple_mdff.Running the MDFF simulation with NAMD state: SCHEDULED\n",
      "\u001b[39m\u001b[0m\u001b[92mUpdate: \u001b[39m\u001b[0m\u001b[94msimple_mdff.Running the MDFF simulation with NAMD.task.0004 state: SUBMITTING\n",
      "\u001b[39m\u001b[0m"
     ]
    },
    {
     "name": "stdout",
     "output_type": "stream",
     "text": [
      "\u001b[94msubmit 1 unit(s)\n",
      "        \u001b[39m\u001b[0m.\u001b[39m\u001b[0m\u001b[92m                                                                     ok\n",
      "\u001b[39m\u001b[0m"
     ]
    },
    {
     "name": "stderr",
     "output_type": "stream",
     "text": [
      "\u001b[92mUpdate: \u001b[39m\u001b[0m\u001b[94msimple_mdff.Running the MDFF simulation with NAMD.task.0004 state: EXECUTED\n",
      "\u001b[39m\u001b[0m\u001b[92mUpdate: \u001b[39m\u001b[0m\u001b[94msimple_mdff.Running the MDFF simulation with NAMD.task.0004 state: FAILED\n",
      "\u001b[39m\u001b[0m\u001b[92mUpdate: \u001b[39m\u001b[0m\u001b[94msimple_mdff.Running the MDFF simulation with NAMD state: DONE\n",
      "\u001b[39m\u001b[0m\u001b[92mUpdate: \u001b[39m\u001b[0m\u001b[94msimple_mdff.NAMD simulation state: SCHEDULING\n",
      "\u001b[39m\u001b[0m\u001b[92mUpdate: \u001b[39m\u001b[0m\u001b[94msimple_mdff.NAMD simulation.task.0005 state: SCHEDULING\n",
      "\u001b[39m\u001b[0m\u001b[92mUpdate: \u001b[39m\u001b[0m\u001b[94msimple_mdff.NAMD simulation.task.0005 state: SCHEDULED\n",
      "\u001b[39m\u001b[0m\u001b[92mUpdate: \u001b[39m\u001b[0m\u001b[94msimple_mdff.NAMD simulation state: SCHEDULED\n",
      "\u001b[39m\u001b[0m\u001b[92mUpdate: \u001b[39m\u001b[0m\u001b[94msimple_mdff.NAMD simulation.task.0005 state: SUBMITTING\n",
      "\u001b[39m\u001b[0m"
     ]
    },
    {
     "name": "stdout",
     "output_type": "stream",
     "text": [
      "\u001b[94msubmit 1 unit(s)\n",
      "        \u001b[39m\u001b[0m.\u001b[39m\u001b[0m\u001b[92m                                                                     ok\n",
      "\u001b[39m\u001b[0m"
     ]
    },
    {
     "name": "stderr",
     "output_type": "stream",
     "text": [
      "\u001b[92mUpdate: \u001b[39m\u001b[0m\u001b[94msimple_mdff.NAMD simulation.task.0005 state: EXECUTED\n",
      "\u001b[39m\u001b[0m\u001b[92mUpdate: \u001b[39m\u001b[0m\u001b[94msimple_mdff.NAMD simulation.task.0005 state: FAILED\n",
      "\u001b[39m\u001b[0m\u001b[92mUpdate: \u001b[39m\u001b[0m\u001b[94msimple_mdff.NAMD simulation state: DONE\n",
      "\u001b[39m\u001b[0m\u001b[92mUpdate: \u001b[39m\u001b[0m\u001b[94msimple_mdff.Calculating the root mean square deviation state: SCHEDULING\n",
      "\u001b[39m\u001b[0m\u001b[92mUpdate: \u001b[39m\u001b[0m\u001b[94msimple_mdff.Calculating the root mean square deviation.task.0006 state: SCHEDULING\n",
      "\u001b[39m\u001b[0m\u001b[92mUpdate: \u001b[39m\u001b[0m\u001b[94msimple_mdff.Calculating the root mean square deviation.task.0006 state: SCHEDULED\n",
      "\u001b[39m\u001b[0m\u001b[92mUpdate: \u001b[39m\u001b[0m\u001b[94msimple_mdff.Calculating the root mean square deviation state: SCHEDULED\n",
      "\u001b[39m\u001b[0m\u001b[92mUpdate: \u001b[39m\u001b[0m\u001b[94msimple_mdff.Calculating the root mean square deviation.task.0006 state: SUBMITTING\n",
      "\u001b[39m\u001b[0m"
     ]
    },
    {
     "name": "stdout",
     "output_type": "stream",
     "text": [
      "\u001b[94msubmit 1 unit(s)\n",
      "        \u001b[39m\u001b[0m.\u001b[39m\u001b[0m\u001b[92m                                                                     ok\n",
      "\u001b[39m\u001b[0m"
     ]
    },
    {
     "name": "stderr",
     "output_type": "stream",
     "text": [
      "\u001b[92mUpdate: \u001b[39m\u001b[0m\u001b[94msimple_mdff.Calculating the root mean square deviation.task.0006 state: EXECUTED\n",
      "\u001b[39m\u001b[0m\u001b[92mUpdate: \u001b[39m\u001b[0m\u001b[94msimple_mdff.Calculating the root mean square deviation.task.0006 state: FAILED\n",
      "\u001b[39m\u001b[0m\u001b[92mUpdate: \u001b[39m\u001b[0m\u001b[94msimple_mdff.Calculating the root mean square deviation state: DONE\n",
      "\u001b[39m\u001b[0m\u001b[92mUpdate: \u001b[39m\u001b[0m\u001b[94msimple_mdff.Calculating the cross-correlation coefficient state: SCHEDULING\n",
      "\u001b[39m\u001b[0m\u001b[92mUpdate: \u001b[39m\u001b[0m\u001b[94msimple_mdff.Calculating the cross-correlation coefficient.task.0007 state: SCHEDULING\n",
      "\u001b[39m\u001b[0m\u001b[92mUpdate: \u001b[39m\u001b[0m\u001b[94msimple_mdff.Calculating the cross-correlation coefficient.task.0007 state: SCHEDULED\n",
      "\u001b[39m\u001b[0m\u001b[92mUpdate: \u001b[39m\u001b[0m\u001b[94msimple_mdff.Calculating the cross-correlation coefficient state: SCHEDULED\n",
      "\u001b[39m\u001b[0m\u001b[92mUpdate: \u001b[39m\u001b[0m\u001b[94msimple_mdff.Calculating the cross-correlation coefficient.task.0007 state: SUBMITTING\n",
      "\u001b[39m\u001b[0m"
     ]
    },
    {
     "name": "stdout",
     "output_type": "stream",
     "text": [
      "\u001b[94msubmit 1 unit(s)\n",
      "        \u001b[39m\u001b[0m.\u001b[39m\u001b[0m\u001b[92m                                                                     ok\n",
      "\u001b[39m\u001b[0m"
     ]
    },
    {
     "name": "stderr",
     "output_type": "stream",
     "text": [
      "\u001b[92mUpdate: \u001b[39m\u001b[0m\u001b[94msimple_mdff.Calculating the cross-correlation coefficient.task.0007 state: EXECUTED\n",
      "\u001b[39m\u001b[0m\u001b[92mUpdate: \u001b[39m\u001b[0m\u001b[94msimple_mdff.Calculating the cross-correlation coefficient.task.0007 state: FAILED\n",
      "\u001b[39m\u001b[0m\u001b[92mUpdate: \u001b[39m\u001b[0m\u001b[94msimple_mdff.Calculating the cross-correlation coefficient state: DONE\n",
      "\u001b[39m\u001b[0m\u001b[92mUpdate: \u001b[39m\u001b[0m\u001b[94msimple_mdff state: DONE\n",
      "\u001b[39m\u001b[0m"
     ]
    },
    {
     "name": "stdout",
     "output_type": "stream",
     "text": [
      "\u001b[94mwait for 1 pilot(s)\n",
      "        \u001b[39m\u001b[0mO\u001b[39m\u001b[0/\u001b[39m\u001b[0-\u001b[39m\u001b[0\\\u001b[39m\u001b[0|\u001b[39m\u001b[0/\u001b[39m\u001b[0-\u001b[39m\u001b[0\\\u001b[39m\u001b[0|\u001b[39m\u001b[0/\u001b[39m\u001b[0-\u001b[39m\u001b[0\\\u001b[39m\u001b[0|\u001b[39m\u001b[0/\u001b[39m\u001b[0-\u001b[39m\u001b[0\\\u001b[39m\u001b[0|\u001b[39m\u001b[0/\u001b[39m\u001b[0-\u001b[39m\u001b[0\\\u001b[39m\u001b[0|\u001b[39m\u001b[0/\u001b[39m\u001b[0-\u001b[39m\u001b[0\\\u001b[39m\u001b[0|\u001b[39m\u001b[0/\u001b[39m\u001b[0-\u001b[39m\u001b[0\\\u001b[39m\u001b[0|\u001b[39m\u001b[0/\u001b[39m\u001b[0-\u001b[39m\u001b[0\\\u001b[39m\u001b[0|\u001b[39m\u001b[0/\u001b[39m\u001b[0-\u001b[39m\u001b[0\\\u001b[39m\u001b[0|\u001b[39m\u001b[0/\u001b[39m\u001b[0-\u001b[39m\u001b[0\\\u001b[39m\u001b[0|\u001b[39m\u001b[0/\u001b[39m\u001b[0-\u001b[39m\u001b[0\\\u001b[39m\u001b[0|\u001b[39m\u001b[0/\u001b[39m\u001b[0-\u001b[39m\u001b[0\\\u001b[39m\u001b[0|\u001b[39m\u001b[0/\u001b[39m\u001b[0-\u001b[39m\u001b[0\\\u001b[39m\u001b[0|\u001b[39m\u001b[0/\u001b[39m\u001b[0-\u001b[39m\u001b[0\\\u001b[39m\u001b[0|\u001b[39m\u001b[0/\u001b[39m\u001b[0-\u001b[39m\u001b[0\\\u001b[39m\u001b[0|\u001b[39m\u001b[0/\u001b[39m\u001b[0-\u001b[39m\u001b[0\\\u001b[39m\u001b[0|\u001b[39m\u001b[0/\u001b[39m\u001b[0-\u001b[39m\u001b[0\\\u001b[39m\u001b[0|\u001b[39m\u001b[0/\u001b[39m\u001b[0-\u001b[39m\u001b[0\\\u001b[39m\u001b[0|\u001b[39m\u001b[0/\u001b[39m\u001b[0-\u001b[39m\u001b[0\\\u001b[39m\u001b[0|\u001b[39m\u001b[0/\u001b[39m\u001b[0-\u001b[39m\u001b[0\\\u001b[39m\u001b[0|\u001b[39m\u001b[0/\u001b[39m\u001b[0-\u001b[39m\u001b[0\\\u001b[39m\u001b[0|\u001b[39m\u001b[0/\u001b[39m\u001b[0-\u001b[39m\u001b[0\\\u001b[39m\u001b[0|\u001b[39m\u001b[0/\u001b[39m\u001b[0-\u001b[39m\u001b[0\\\u001b[39m\u001b[0|\u001b[39m\u001b[0/\u001b[39m\u001b[0-\u001b[39m\u001b[0\\\u001b[39m\u001b[0|\u001b[39m\u001b[0/\u001b[39m\u001b[0-\u001b[39m\u001b[0\\\u001b[39m\u001b[0|\u001b[39m\u001b[0/\u001b[39m\u001b[0-\u001b[39m\u001b[0\\\u001b[39m\u001b[0|\u001b[39m\u001b[0/\u001b[39m\u001b[0-\u001b[39m\u001b[0\\\u001b[39m\u001b[0|\u001b[39m\u001b[0/\u001b[39m\u001b[0-\u001b[39m\u001b[0\\\u001b[39m\u001b[0|\u001b[39m\u001b[0/\u001b[39m\u001b[0-\u001b[39m\u001b[0\\\u001b[39m\u001b[0|\u001b[39m\u001b[0/\u001b[39m\u001b[0-\u001b[39m\u001b[0\\\u001b[39m\u001b[0|\u001b[39m\u001b[0/\u001b[39m\u001b[0-\u001b[39m\u001b[0\\\u001b[39m\u001b[0|\u001b[39m\u001b[0/\u001b[39m\u001b[0-\u001b[39m\u001b[0\\\u001b[39m\u001b[0|\u001b[39m\u001b[0/\u001b[39m\u001b[0-\u001b[39m\u001b[0\\\u001b[39m\u001b[0|\u001b[39m\u001b[0/\u001b[39m\u001b[0-\u001b[39m\u001b[0\\\u001b[39m\u001b[0|\u001b[39m\u001b[0/\u001b[39m\u001b[0-\u001b[39m\u001b[0\\\u001b[39m\u001b[0|\u001b[39m\u001b[0/\u001b[39m\u001b[0-\u001b[39m\u001b[0\\\u001b[39m\u001b[0|\u001b[39m\u001b[0/\u001b[39m\u001b[0-\u001b[39m\u001b[0\\\u001b[39m\u001b[0|\u001b[39m\u001b[0/\u001b[39m\u001b[0-\u001b[39m\u001b[0\\\u001b[39m\u001b[0|\u001b[39m\u001b[0/\u001b[39m\u001b[0-\u001b[39m\u001b[0\\\u001b[39m\u001b[0|\u001b[39m\u001b[0/\u001b[39m\u001b[0-\u001b[39m\u001b[0\\\u001b[39m\u001b[0|\u001b[39m\u001b[0/\u001b[39m\u001b[0-\u001b[39m\u001b[0\\\u001b[39m\u001b[0|\u001b[39m\u001b[0/\u001b[39m\u001b[0-\u001b[39m\u001b[0\\\u001b[39m\u001b[0|\u001b[39m\u001b[0/\u001b[39m\u001b[0-\u001b[39m\u001b[0\\\u001b[39m\u001b[0|\u001b[39m\u001b[0/\u001b[39m\u001b[0-\u001b[39m\u001b[0\\\u001b[39m\u001b[0|\u001b[39m\u001b[0/\u001b[39m\u001b[0 \u001b[39m\u001b[0m\u001b[92m                                                                     ok\n",
      "\u001b[39m\u001b[0m\u001b[94mclosing session re.session.login3.hrlee.018218.0003\u001b[39m\u001b[0m\u001b[94m                            \\\n",
      "close pilot manager\u001b[39m\u001b[0m\u001b[94m                                                            \\\n",
      "wait for 1 pilot(s)\n",
      "        \u001b[39m\u001b[0mO\u001b[39m\u001b[0 \u001b[39m\u001b[0m\u001b[93m                                                                timeout\n",
      "\u001b[39m\u001b[0m\u001b[92m                                                                              ok\n",
      "\u001b[39m\u001b[0m\u001b[94msession lifetime: 1102.3s\u001b[39m\u001b[0m\u001b[92m                                                     ok\n",
      "\u001b[39m\u001b[0m"
     ]
    },
    {
     "name": "stderr",
     "output_type": "stream",
     "text": [
      "\u001b[94mAll components terminated\n",
      "\u001b[39m\u001b[0m"
     ]
    }
   ],
   "source": [
    "# Assign the workflow as a set or list of Pipelines to the Application Manager\n",
    "appman.workflow = [p]\n",
    "\n",
    "# Run the Application Manager\n",
    "appman.run()"
   ]
  }
 ],
 "metadata": {
  "kernelspec": {
   "display_name": "py2.rp",
   "language": "python",
   "name": "py2.rp"
  },
  "language_info": {
   "codemirror_mode": {
    "name": "ipython",
    "version": 2
   },
   "file_extension": ".py",
   "mimetype": "text/x-python",
   "name": "python",
   "nbconvert_exporter": "python",
   "pygments_lexer": "ipython2",
   "version": "2.7.16"
  }
 },
 "nbformat": 4,
 "nbformat_minor": 2
}
